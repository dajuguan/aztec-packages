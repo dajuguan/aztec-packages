{
 "cells": [
  {
   "cell_type": "markdown",
   "id": "b1c5160a",
   "metadata": {},
   "source": [
    "# The Path Forward\n",
    "If the WASM slowdown is generically by 1/3.4, then our heuristics say we should aim the follow time on 16 cores for an x86 build:\n"
   ]
  },
  {
   "cell_type": "code",
   "execution_count": 1,
   "id": "693d2b39",
   "metadata": {},
   "outputs": [
    {
     "data": {
      "text/plain": [
       "17.647058823529413"
      ]
     },
     "execution_count": 1,
     "metadata": {},
     "output_type": "execute_result"
    }
   ],
   "source": [
    "TARGET_TIME = 60/3.4\n",
    "TARGET_TIME "
   ]
  },
  {
   "cell_type": "markdown",
   "id": "1f822e48",
   "metadata": {},
   "source": [
    "Set up the basic utility class to compute and display the effects of our optimizations"
   ]
  },
  {
   "cell_type": "code",
   "execution_count": 2,
   "id": "aed8a62d",
   "metadata": {},
   "outputs": [],
   "source": [
    "from prettytable import PrettyTable\n",
    "FIELD_NAMES = [\"-\", \"total\", \"rels\", \"msm\", \"trace\", \"etc\"]\n",
    "NUM_RELATIONS = 10 \n",
    "NUM_THREADS = 16\n",
    "\n",
    "def normalize(d):\n",
    "    total = sum(d.values())\n",
    "    return {k: round(100*v/total) for (k, v) in d.items()}\n",
    "\n",
    "\n",
    "class TableData:\n",
    "    def __init__(self, percs, times):\n",
    "        self.percs = percs\n",
    "        self.times = times\n",
    "\n",
    "    def to_table(self):\n",
    "        result = PrettyTable()\n",
    "        result.field_names = FIELD_NAMES\n",
    "\n",
    "        percs = list(self.percs.values())\n",
    "        times = list(self.times.values())\n",
    "        result.add_row([\"%\"] + [round(sum(percs), 2)] + percs)\n",
    "        result.add_row([\"#(s)\"] + [round(sum(times), 2)] + times)\n",
    "        return result\n",
    "\n",
    "    def update_perc(self, k, v):\n",
    "        self.percs[k] = self.percs[k] * v\n",
    "        self.percs = normalize(self.percs)\n",
    "\n",
    "    def update_time(self, k, v):\n",
    "        self.times[k] = round(self.times[k] * v, 2)\n",
    "\n",
    "    def update(self, k, v):\n",
    "        self.update_perc(k, v)\n",
    "        self.update_time(k, v)\n",
    "\n",
    "    def __str__(self):\n",
    "        return self.to_table().__str__()"
   ]
  },
  {
   "cell_type": "code",
   "execution_count": 3,
   "id": "660a69d8",
   "metadata": {},
   "outputs": [
    {
     "name": "stdout",
     "output_type": "stream",
     "text": [
      "+------+-------+------+------+-------+-------+\n",
      "|  -   | total | rels | msm  | trace |  etc  |\n",
      "+------+-------+------+------+-------+-------+\n",
      "|  %   |  100  |  20  |  30  |   35  |   15  |\n",
      "| #(s) | 173.0 | 34.6 | 51.9 | 60.55 | 25.95 |\n",
      "+------+-------+------+------+-------+-------+\n"
     ]
    }
   ],
   "source": [
    "INITIAL_PERCS = {\"rels\": 20,   \"msm\": 30,   \"trace\": 35,    \"etc\": 15}\n",
    "INITIAL_TIMES = {\"rels\": 34.6, \"msm\": 51.9, \"trace\": 60.55, \"etc\": 25.95}\n",
    "T = TableData(INITIAL_PERCS, INITIAL_TIMES)\n",
    "print(T)"
   ]
  },
  {
   "cell_type": "markdown",
   "id": "ef4ef70d",
   "metadata": {},
   "source": [
    "## Multithreaded witness construction\n",
    "\n",
    "Our default assumption is multithreading over 16 cores. In this case, since there is a lot of stdlib and we will likely only multithread a few hot loops, we can be pessimistic and assume that we will only get an $8\\times$ speedup.\n"
   ]
  },
  {
   "cell_type": "code",
   "execution_count": 4,
   "id": "4e548d5a",
   "metadata": {},
   "outputs": [
    {
     "name": "stdout",
     "output_type": "stream",
     "text": [
      "+------+--------+------+------+-------+-------+\n",
      "|  -   | total  | rels | msm  | trace |  etc  |\n",
      "+------+--------+------+------+-------+-------+\n",
      "|  %   |  100   |  29  |  43  |   6   |   22  |\n",
      "| #(s) | 120.02 | 34.6 | 51.9 |  7.57 | 25.95 |\n",
      "+------+--------+------+------+-------+-------+\n"
     ]
    }
   ],
   "source": [
    "REDUCTION_DUE_TO_MULTITHREADED_WITNESS_CONSTRUCTION = 1/8\n",
    "T.update(\"trace\", REDUCTION_DUE_TO_MULTITHREADED_WITNESS_CONSTRUCTION)\n",
    "print(T)\n"
   ]
  },
  {
   "cell_type": "markdown",
   "id": "96d1db66",
   "metadata": {},
   "source": [
    "## Using Protogalaxy\n",
    "\n",
    "For now, let's just estimate the effect of Protogalaxy by saying that it achieves the following change in ratios: $\\frac{\\text{rels}}{\\text{msm}} = \\frac{40}{36}$. In that case we want to reduce the MSM time by $x$ such that $\\frac{\\text{rels}}{x\\times \\text{msm}} = \\frac{40}{36}$."
   ]
  },
  {
   "cell_type": "code",
   "execution_count": 5,
   "id": "de282541",
   "metadata": {},
   "outputs": [
    {
     "name": "stdout",
     "output_type": "stream",
     "text": [
      "+------+-------+------+------+-------+-------+\n",
      "|  -   | total | rels | msm  | trace |  etc  |\n",
      "+------+-------+------+------+-------+-------+\n",
      "|  %   |   99  |  35  |  31  |   7   |   26  |\n",
      "| #(s) | 99.62 | 34.6 | 31.5 |  7.57 | 25.95 |\n",
      "+------+-------+------+------+-------+-------+\n"
     ]
    }
   ],
   "source": [
    "PROTOGALAXY_EXPECTED_RELS_PERC = 40\n",
    "PROTOGALAXY_EXPECTED_MSM_PERC = 36\n",
    "REDUCTION_DUE_TO_PROTOGALAXY = (T.percs[\"rels\"]/T.percs[\"msm\"])/(40/36)\n",
    "T.update(\"msm\", REDUCTION_DUE_TO_PROTOGALAXY)\n",
    "print(T)\n"
   ]
  },
  {
   "cell_type": "markdown",
   "id": "ed77dd2e",
   "metadata": {},
   "source": [
    "## Structuring the execution trace\n",
    "\n",
    "By structuring the exeuction trace, we can reduce the time to execute the relations by a factor of $1/\\text{NUM\\_RELATIONS}$"
   ]
  },
  {
   "cell_type": "code",
   "execution_count": 6,
   "id": "bbd96eec",
   "metadata": {},
   "outputs": [
    {
     "name": "stdout",
     "output_type": "stream",
     "text": [
      "+------+-------+------+------+-------+-------+\n",
      "|  -   | total | rels | msm  | trace |  etc  |\n",
      "+------+-------+------+------+-------+-------+\n",
      "|  %   |  100  |  5   |  46  |   10  |   39  |\n",
      "| #(s) | 68.48 | 3.46 | 31.5 |  7.57 | 25.95 |\n",
      "+------+-------+------+------+-------+-------+\n"
     ]
    }
   ],
   "source": [
    "REDUCTION_DUE_TO_TRACE_STRUCTURING = 1/NUM_RELATIONS\n",
    "T.update(\"rels\", REDUCTION_DUE_TO_TRACE_STRUCTURING)\n",
    "print(T)\n"
   ]
  },
  {
   "cell_type": "markdown",
   "id": "f470d600",
   "metadata": {},
   "source": [
    "## Improved multithreading\n",
    "\n",
    "OMP did a better job by about 35% on the sizes we care about in terms of commitments. Assume that holds and we can get the corresponding reduction in x86."
   ]
  },
  {
   "cell_type": "code",
   "execution_count": 7,
   "id": "e95b549c",
   "metadata": {},
   "outputs": [
    {
     "name": "stdout",
     "output_type": "stream",
     "text": [
      "+------+-------+------+-------+-------+-------+\n",
      "|  -   | total | rels |  msm  | trace |  etc  |\n",
      "+------+-------+------+-------+-------+-------+\n",
      "|  %   |  100  |  6   |   36  |   12  |   46  |\n",
      "| #(s) | 57.46 | 3.46 | 20.48 |  7.57 | 25.95 |\n",
      "+------+-------+------+-------+-------+-------+\n"
     ]
    }
   ],
   "source": [
    "REDUCTION_DUE_TO_OMP = 0.65\n",
    "T.update(\"msm\", REDUCTION_DUE_TO_OMP)\n",
    "print(T)\n"
   ]
  },
  {
   "cell_type": "markdown",
   "id": "7c593fe0",
   "metadata": {},
   "source": [
    "## Multithreading compute_full_honk_evaluations\n",
    "\n",
    "Row now, 9% of Protogalaxy proving time is not multithreaded (according to xray...). A bulk of that is taken up by the non-multithreaded function `compute_full_honk_evaluations` which accounts for 3.75% of the total proving. Suppose we can mulitithread that effectively."
   ]
  },
  {
   "cell_type": "code",
   "execution_count": 8,
   "id": "2b2fc134",
   "metadata": {},
   "outputs": [
    {
     "name": "stdout",
     "output_type": "stream",
     "text": [
      "+------+-------+------+-------+-------+-------+\n",
      "|  -   | total | rels |  msm  | trace |  etc  |\n",
      "+------+-------+------+-------+-------+-------+\n",
      "|  %   |  100  |  7   |   44  |   15  |   34  |\n",
      "| #(s) | 47.32 | 3.46 | 20.48 |  7.57 | 15.81 |\n",
      "+------+-------+------+-------+-------+-------+\n"
     ]
    }
   ],
   "source": [
    "COMPUTE_EVALS_PERC = 3.75\n",
    "SINGLY_THREADED_PERC = 9\n",
    "\n",
    "\n",
    "REDUCTION_DUE_TO_MULTITHREADING_COMPUTE_EVALS = 1 - (COMPUTE_EVALS_PERC/SINGLY_THREADED_PERC) * (1-1/NUM_THREADS)\n",
    "T.update(\"etc\", REDUCTION_DUE_TO_MULTITHREADING_COMPUTE_EVALS)\n",
    "print(T)\n"
   ]
  },
  {
   "cell_type": "markdown",
   "id": "54d8329e",
   "metadata": {},
   "source": [
    "## Better field arithemetic\n",
    "\n",
    "Somebody has written BN254 field arithemtic in Nim and it is 30% faster."
   ]
  },
  {
   "cell_type": "code",
   "execution_count": 9,
   "id": "c444c15e",
   "metadata": {},
   "outputs": [
    {
     "name": "stdout",
     "output_type": "stream",
     "text": [
      "+------+-------+------+-------+-------+-------+\n",
      "|  -   | total | rels |  msm  | trace |  etc  |\n",
      "+------+-------+------+-------+-------+-------+\n",
      "|  %   |  100  |  6   |   36  |   18  |   40  |\n",
      "| #(s) | 40.14 | 2.42 | 14.34 |  7.57 | 15.81 |\n",
      "+------+-------+------+-------+-------+-------+\n"
     ]
    }
   ],
   "source": [
    "REDUCTION_DUE_TO_USING_NIM = 0.7\n",
    "T.update(\"msm\", REDUCTION_DUE_TO_USING_NIM)\n",
    "T.update(\"rels\", REDUCTION_DUE_TO_USING_NIM)\n",
    "print(T)\n"
   ]
  }
 ],
 "metadata": {
  "kernelspec": {
   "display_name": "Python 3 (ipykernel)",
   "language": "python",
   "name": "python3"
  },
  "language_info": {
   "codemirror_mode": {
    "name": "ipython",
    "version": 3
   },
   "file_extension": ".py",
   "mimetype": "text/x-python",
   "name": "python",
   "nbconvert_exporter": "python",
   "pygments_lexer": "ipython3",
   "version": "3.11.6"
  }
 },
 "nbformat": 4,
 "nbformat_minor": 5
}
